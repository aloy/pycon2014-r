{
 "metadata": {},
 "nbformat": 3,
 "nbformat_minor": 0,
 "worksheets": [
  {
   "cells": [
    {
     "cell_type": "markdown",
     "metadata": {},
     "source": [
      "# Reshape\n",
      "\n",
      "\n",
      "\n",
      "\n",
      "One way to tidy data is to `reshape` it so that it adheres to the three rules of tidy data. While base R has several functions aimed at reshaping data, we will use the `reshape2` package by [Hadley Wickham](http://github.com/hadley), as it provides a simple and consistent set of functions to reshape data.\n",
      "\n",
      " \n",
      "### Basics\n",
      "\n",
      "In the simplest terms, reshaping data is like doing a pivot table in excel, where you shuffle columns, rows and values. Let us start by tidying the [pew](data/pew.txt) dataset."
     ]
    },
    {
     "cell_type": "code",
     "collapsed": false,
     "input": [
      "%%r\n",
      "pew <- read.delim(\n",
      "  file = \"data/pew.txt\",\n",
      "  header = TRUE,\n",
      "  stringsAsFactors = FALSE,\n",
      "  check.names = F\n",
      ")"
     ],
     "language": "python",
     "metadata": {},
     "outputs": []
    },
    {
     "cell_type": "markdown",
     "metadata": {},
     "source": [
      "We can tidy this data using the `melt` function in the `reshape2` package."
     ]
    },
    {
     "cell_type": "code",
     "collapsed": false,
     "input": [
      "%%r\n",
      "library(reshape2)\n",
      "pew_tidy <- melt(\n",
      "  data = pew,\n",
      "  id = \"religion\",\n",
      "  variable.name = \"income\",\n",
      "  value.name = \"frequency\"\n",
      ")"
     ],
     "language": "python",
     "metadata": {},
     "outputs": []
    },
    {
     "cell_type": "markdown",
     "metadata": {},
     "source": [
      "<!-- html table generated in R 3.0.3 by xtable 1.7-3 package -->\n",
      "<!-- Tue Apr 15 05:00:02 2014 -->\n",
      "<TABLE >\n",
      "<TR> <TH> religion </TH> <TH> income </TH> <TH> frequency </TH>  </TR>\n",
      "  <TR> <TD> Agnostic </TD> <TD> &lt;$10k </TD> <TD align=\"right\"> 27 </TD> </TR>\n",
      "  <TR> <TD> Atheist </TD> <TD> &lt;$10k </TD> <TD align=\"right\"> 12 </TD> </TR>\n",
      "  <TR> <TD> Buddhist </TD> <TD> &lt;$10k </TD> <TD align=\"right\"> 27 </TD> </TR>\n",
      "  <TR> <TD> Catholic </TD> <TD> &lt;$10k </TD> <TD align=\"right\"> 418 </TD> </TR>\n",
      "  <TR> <TD> Don\u2019t know/refused </TD> <TD> &lt;$10k </TD> <TD align=\"right\"> 15 </TD> </TR>\n",
      "  <TR> <TD> Evangelical Prot </TD> <TD> &lt;$10k </TD> <TD align=\"right\"> 575 </TD> </TR>\n",
      "   </TABLE>\n",
      "\n",
      "\n",
      "### Exercise 1\n",
      "\n",
      "Now that you know how to `melt` a data frame, use the same idea to tidy the [tb](data/tb.csv) dataset. Think about how you can split `gender` and `age` after melting the data"
     ]
    },
    {
     "cell_type": "code",
     "collapsed": false,
     "input": [
      "%%r\n",
      "tb <- read.csv(\n",
      "  file = \"data/tb.csv\",\n",
      "  header = TRUE, \n",
      "  stringsAsFactors = FALSE\n",
      ")"
     ],
     "language": "python",
     "metadata": {},
     "outputs": []
    },
    {
     "cell_type": "markdown",
     "metadata": {},
     "source": [
      "### Solution 1"
     ]
    },
    {
     "cell_type": "code",
     "collapsed": false,
     "input": [
      "%%r\n",
      "library(reshape2)\n",
      "\n",
      "# set column `new_sp` to NULL and clean up column names\n",
      "tb$new_sp = NULL\n",
      "names(tb) <- gsub(\"new_sp_\", \"\", names(tb))\n",
      "\n",
      "# Use na.rm = TRUE to remove missing observations\n",
      "tb_tidy <- melt(\n",
      "  data = tb,\n",
      "  id = c(\"iso2\", \"year\"),\n",
      "  variable.name = \"gender_age\",\n",
      "  value.name = \"cases\",\n",
      "  na.rm = TRUE\n",
      ")\n",
      "\n",
      "# split gender_age into gender and age group\n",
      "library(plyr)\n",
      "tb_tidy <- mutate(tb_tidy,\n",
      "  gender = sub(\"^([m|f])(.*)$\", \"\\\\1\", gender_age),\n",
      "  age = sub(\"^([m|f])(.*)$\", \"\\\\2\", gender_age),\n",
      "  gender_age = NULL\n",
      ")\n",
      "tb_tidy <- tb_tidy[c('iso2', 'year', 'gender', 'age', 'cases')]"
     ],
     "language": "python",
     "metadata": {},
     "outputs": []
    },
    {
     "cell_type": "markdown",
     "metadata": {},
     "source": [
      "There is one more step of cleaning required to assign the `age` groups more meaningful names. For example, `04` stands for `0-4`.\n",
      "\n",
      "### Exercise 2\n",
      "\n",
      "Use the same principles to clean the [weather](data/weather.txt) dataset."
     ]
    },
    {
     "cell_type": "code",
     "collapsed": false,
     "input": [
      "%%r\n",
      "weather <- read.delim(\n",
      " file = \"data/weather.txt\",\n",
      " stringsAsFactors = FALSE\n",
      ")"
     ],
     "language": "python",
     "metadata": {},
     "outputs": []
    },
    {
     "cell_type": "markdown",
     "metadata": {},
     "source": [
      "### Solution 2\n",
      "\n",
      "We first melt the data and convert the `day` variable into numbers."
     ]
    },
    {
     "cell_type": "code",
     "collapsed": false,
     "input": [
      "%%r\n",
      "weather_tidy <- melt(\n",
      "  data = weather,  \n",
      "  id = 1:4,\n",
      "  variable.name = \"day\",\n",
      "  value.name = \"temparature\",\n",
      "  na.rm = TRUE\n",
      ")\n",
      "weather_tidy <- mutate(weather_tidy,\n",
      "  day = sub(\"^d\", \"\", day)  \n",
      ")"
     ],
     "language": "python",
     "metadata": {},
     "outputs": []
    },
    {
     "cell_type": "markdown",
     "metadata": {},
     "source": [
      "We still have the issue of variables `TMAX` and `TMIN` being present in rows. We can fix this using the `dcast` function in `reshape2`. Type `?dcast` to read up the documentation on this function.\n",
      " "
     ]
    },
    {
     "cell_type": "code",
     "collapsed": false,
     "input": [
      "%%r\n",
      "weather_tidy2 <- dcast(\n",
      "  data = weather_tidy,\n",
      "  formula = id + year + month + day ~ element, \n",
      "  value.var = \"temparature\"\n",
      ")"
     ],
     "language": "python",
     "metadata": {},
     "outputs": []
    },
    {
     "cell_type": "markdown",
     "metadata": {},
     "source": [
      "### Exercise 3\n",
      "\n",
      "Tidy the dataset `billboards.csv`! Note that this dataset suffers from messiness of other types. So you will need to think beyond what was done in the previous exercises.\n",
      "\n",
      "\n",
      "### Solution 3\n",
      "\n",
      "We start by reading the dataset using `read.csv`. I don't like using periods in column names, and so let us convert periods to underscores."
     ]
    },
    {
     "cell_type": "code",
     "collapsed": false,
     "input": [
      "%%r\n",
      "billboards <- read.csv(\n",
      "  file = \"http://stat405.had.co.nz/data/billboard.csv\",\n",
      "  stringsAsFactors = FALSE\n",
      ")\n",
      "names(billboards) <- gsub(\"\\\\.\", \"_\", names(billboards))"
     ],
     "language": "python",
     "metadata": {},
     "outputs": []
    },
    {
     "cell_type": "code",
     "collapsed": false,
     "input": [
      "%%r\n",
      "billboards <- mutate(billboards,\n",
      "  artist_inverted = iconv(artist_inverted, \"MAC\", \"UTF-8\"),\n",
      ")  \n",
      "billboards_tidy <- melt(billboards, \n",
      "  id = 1:7,\n",
      "  variable.name = \"week\",\n",
      "  value.name = \"rank\",\n",
      "  na.rm = TRUE\n",
      ")\n",
      "billboards_tidy <- mutate(billboards_tidy,\n",
      "  week = as.numeric(gsub(\"^x([[:digit:]]+).*\", \"\\\\1\", week))  \n",
      ")"
     ],
     "language": "python",
     "metadata": {},
     "outputs": []
    },
    {
     "cell_type": "markdown",
     "metadata": {},
     "source": [
      "<style>\n",
      "table{ \n",
      "  display: block;\n",
      "  margin-left: auto;\n",
      "  margin-right: auto;\n",
      "}\n",
      "\n",
      ".posthidden {display:none} \n",
      ".postshown {display:inline}\n",
      "</style>\n",
      "\n",
      "<script type=\"text/Javascript\"> \n",
      "\n",
      "  function expandcollapse (postid) { "
     ]
    },
    {
     "cell_type": "code",
     "collapsed": false,
     "input": [
      "whichpost = document.getElementById(postid); "
     ],
     "language": "python",
     "metadata": {},
     "outputs": []
    },
    {
     "cell_type": "markdown",
     "metadata": {},
     "source": [
      "   "
     ]
    },
    {
     "cell_type": "code",
     "collapsed": false,
     "input": [
      "if (whichpost.className==\"postshown\") { \n",
      " whichpost.className=\"posthidden\"; \n",
      "} \n",
      "else { \n",
      " whichpost.className=\"postshown\"; \n",
      "} "
     ],
     "language": "python",
     "metadata": {},
     "outputs": []
    },
    {
     "cell_type": "markdown",
     "metadata": {},
     "source": [
      "  } \n",
      "</script>\n",
      "\n",
      "\n"
     ]
    }
   ],
   "metadata": {}
  }
 ]
}